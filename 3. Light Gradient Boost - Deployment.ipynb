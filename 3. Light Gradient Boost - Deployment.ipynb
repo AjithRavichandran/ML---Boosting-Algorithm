{
 "cells": [
  {
   "cell_type": "code",
   "execution_count": 1,
   "id": "f871e42d-9646-455a-9e98-69350448af83",
   "metadata": {},
   "outputs": [],
   "source": [
    "import pickle"
   ]
  },
  {
   "cell_type": "code",
   "execution_count": 2,
   "id": "7f907410-f820-4bdb-8b40-b4ed3b8c7eaa",
   "metadata": {},
   "outputs": [],
   "source": [
    "load=pickle.load(open(\"3. Final - LGBoost.sav\",\"rb\"))\n",
    "result=load.predict([[24,17,0,1,0]])"
   ]
  },
  {
   "cell_type": "code",
   "execution_count": 3,
   "id": "65b1fc1a-174c-447d-a53e-f08e6e3c1742",
   "metadata": {},
   "outputs": [
    {
     "data": {
      "text/plain": [
       "array([4499.5496074])"
      ]
     },
     "execution_count": 3,
     "metadata": {},
     "output_type": "execute_result"
    }
   ],
   "source": [
    "result"
   ]
  },
  {
   "cell_type": "code",
   "execution_count": null,
   "id": "49c2ddf8-0f4d-42fb-83ae-8169a9c40caf",
   "metadata": {},
   "outputs": [],
   "source": []
  },
  {
   "cell_type": "code",
   "execution_count": null,
   "id": "104946b9-a8a8-4e5a-a4e3-140c89514de0",
   "metadata": {},
   "outputs": [],
   "source": []
  }
 ],
 "metadata": {
  "kernelspec": {
   "display_name": "Python 3 (ipykernel)",
   "language": "python",
   "name": "python3"
  },
  "language_info": {
   "codemirror_mode": {
    "name": "ipython",
    "version": 3
   },
   "file_extension": ".py",
   "mimetype": "text/x-python",
   "name": "python",
   "nbconvert_exporter": "python",
   "pygments_lexer": "ipython3",
   "version": "3.12.4"
  }
 },
 "nbformat": 4,
 "nbformat_minor": 5
}
